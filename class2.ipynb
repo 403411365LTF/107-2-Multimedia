{
  "nbformat": 4,
  "nbformat_minor": 0,
  "metadata": {
    "colab": {
      "name": "Untitled1.ipynb",
      "version": "0.3.2",
      "provenance": [],
      "include_colab_link": true
    },
    "kernelspec": {
      "name": "python3",
      "display_name": "Python 3"
    }
  },
  "cells": [
    {
      "cell_type": "markdown",
      "metadata": {
        "id": "view-in-github",
        "colab_type": "text"
      },
      "source": [
        "<a href=\"https://colab.research.google.com/github/403411365LTF/107-2-Multimedia/blob/master/class2.ipynb\" target=\"_parent\"><img src=\"https://colab.research.google.com/assets/colab-badge.svg\" alt=\"Open In Colab\"/></a>"
      ]
    },
    {
      "metadata": {
        "id": "dhB4sn_U_lWi",
        "colab_type": "code",
        "colab": {
          "base_uri": "https://localhost:8080/",
          "height": 132
        },
        "outputId": "2bb47b05-bba0-4764-a760-2b6322b928c2"
      },
      "cell_type": "code",
      "source": [
        "import numpy as np\n",
        "#https://zh.wikipedia.org/wiki/NumPy\n",
        "x = np.array([1,2,3])\n",
        "x\n",
        "y = np.arange(10)\n",
        "y\n",
        "a = np.array([1,3,6,9])\n",
        "b = np.linspace(0,15,4) #https://docs.scipy.org/doc/numpy/reference/generated/numpy.linspace.html\n",
        "b\n",
        "c = a-b\n",
        "c\n",
        "a**2\n",
        "a = np.array([[1,2,3],[4,5,6],[7,8,9]])\n",
        "a.transpose()\n",
        "np.linalg.inv(a)\n",
        "#https://www.smwenku.com/a/5b8d7e462b717718833e68ed\n",
        "#https://matrixcalc.org/zh/\n",
        "a2= np.array([[1., 2.], [3., 4.]])\n",
        "np.linalg.inv(a2)\n",
        "#https://docs.scipy.org/doc/numpy/reference/generated/numpy.linalg.solve.html\n",
        "#https://ipreacher.github.io/2017/common-symbolic-calculations/\n",
        "a3 = np.array([[3,1], [1,2]])\n",
        "b = np.array([9,8])\n",
        "#3 * x0 + x1 = 9\n",
        "#x0 + 2 * x1 = 8\n",
        "x = np.linalg.solve(a3, b)\n",
        "x\n",
        "# b.shape\n",
        "c = np.random.rand(3,3)\n",
        "c\n",
        "np.dot(a,c)\n",
        "z = np.zeros((2,4),np.uint8)\n",
        "type(z)\n",
        "z\n",
        "o = np.ones((2,4),np.int32)\n",
        "o\n",
        "m = np.array([[4,12,3,1],[10,12,14,29]],np.float32)\n",
        "m\n",
        "m.shape\n",
        "m.dtype\n",
        "m = np.array([[[1,2,3,4],[5,6,7,8]],[[10,11,12,14],[15,16,17,18]]],np.float32)\n",
        "m\n",
        "m = np.array([[14,12,3,1],[10,12,114,29],[67,23,534,2]],np.float32)\n",
        "m[1,3]\n",
        "m[2,:]\n",
        "m[:,3]\n",
        "m[0:2,1:3]\n",
        "m = np.array([[[1,2,3,4],[5,6,7,8]],[[10,11,12,14],[15,16,17,18]],[[11,12,43,32],[1,5,10,23]]],np.float32)\n",
        "m\n",
        "m[:,:,0]\n",
        "# dimension*w*l\n",
        "\n",
        "#m[:,:,0].shape\n",
        "\n",
        "m[0,:,:]\n",
        "\n",
        "\n",
        "\n",
        "src1 = np.array([[23,123,90],[100,250,0]],np.uint8)\n",
        "src2 = np.array([[125,150,60],[100,10,40]],np.uint8)\n",
        "dst = src1 + src2\n",
        "dst\n",
        "\n",
        "src2 = np.array([[125,150,60],[100,10,40]],np.float32)\n",
        "dst = src1 + src2\n",
        "dst\n",
        "\n",
        "import cv2\n",
        "dst = cv2.add(src1, src2, dtype=cv2.CV_32F)\n",
        "dst\n",
        "\n",
        "src2 = np.array([[125,150,60],[100,10,40]],np.uint8)\n",
        "dst = src1 - src2\n",
        "dst\n",
        "\n",
        "src2 = np.array([[125,150,60],[100,10,40]],np.float32)\n",
        "dst = src1 * src2\n",
        "dst\n",
        "\n",
        "dst = np.multiply(src1, src2)\n",
        "dst\n",
        "\n",
        "src2 = np.array([[125,150,60],[100,10,40]],np.uint8)\n",
        "dst = src2 / src1\n",
        "dst\n",
        "/usr/local/lib/python3.6/dist-packages/ipykernel_launcher.py:2: RuntimeWarning: divide by zero encountered in true_divide\n",
        "  \n",
        "\n",
        "3/2\n",
        "\n",
        "src2 = np.array([[125,150,60],[100,10,40]],np.float32)\n",
        "dst = src2 / src1\n",
        "dst\n",
        "/usr/local/lib/python3.6/dist-packages/ipykernel_launcher.py:2: RuntimeWarning: divide by zero encountered in true_divide\n",
        "  \n",
        "\n",
        "src3 = np.array([[1,2,3],[4,5,6]],np.uint8)\n",
        "src4 = np.array([[6,5],[4,3],[2,1]],np.uint8)\n",
        "dst = np.dot(src3, src4)\n",
        "dst\n",
        "\n",
        "src5 = np.array([[6,5],[4,3]],np.uint8)\n",
        "dst2 = np.log(src5)\n",
        "dst2.dtype\n",
        "\n",
        "dst2\n",
        "\n",
        "src = np.array([[30,40],[10,100]],np.uint8)\n",
        "dst1 = np.power(src,2)\n",
        "dst1\n",
        "\n",
        "dst2 = np.power(src, 2.0)\n",
        "dst2\n",
        "\n",
        "dst2.dtype"
      ],
      "execution_count": 4,
      "outputs": [
        {
          "output_type": "error",
          "ename": "SyntaxError",
          "evalue": "ignored",
          "traceback": [
            "\u001b[0;36m  File \u001b[0;32m\"<ipython-input-4-d5f2b6a000f4>\"\u001b[0;36m, line \u001b[0;32m86\u001b[0m\n\u001b[0;31m    usr(/local/lib/python3.6/dist-packages/ipykernel_launcher.py:2:, RuntimeWarning:, divide, by, zero, encountered, in, true_divide)\u001b[0m\n\u001b[0m        ^\u001b[0m\n\u001b[0;31mSyntaxError\u001b[0m\u001b[0;31m:\u001b[0m invalid syntax\n"
          ]
        }
      ]
    },
    {
      "metadata": {
        "id": "IwNmxFeCBgrQ",
        "colab_type": "code",
        "colab": {}
      },
      "cell_type": "code",
      "source": [
        ""
      ],
      "execution_count": 0,
      "outputs": []
    }
  ]
}